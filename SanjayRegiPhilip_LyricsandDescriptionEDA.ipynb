{
 "cells": [
  {
   "cell_type": "markdown",
   "id": "430fd91e",
   "metadata": {},
   "source": [
    "# Sanjay Regi Philip ADS 509 Assignment 2.1"
   ]
  },
  {
   "cell_type": "markdown",
   "id": "7f79baf9",
   "metadata": {},
   "source": [
    "# Tokenization, Normalization, Descriptive Statistics \n",
    "\n",
    "This notebook holds Assignment 2.1 for Module 2 in ADS 509, Applied Text Mining. Work through this notebook, writing code and answering questions where required. \n",
    "\n",
    "In the previous assignment you put together Twitter data and lyrics data on two artists. In this assignment we explore some of the textual features of those data sets. If, for some reason, you did not complete that previous assignment, data to use for this assignment can be found in the assignment materials section of Blackboard. \n",
    "\n",
    "This assignment asks you to write a short function to calculate some descriptive statistics on a piece of text. Then you are asked to find some interesting and unique statistics on your corpora. \n"
   ]
  },
  {
   "cell_type": "markdown",
   "id": "e1423c80",
   "metadata": {},
   "source": [
    "### Note to instructor: the data files used for this assignment (twitter followers and lyrics) were subsampled because of performance issues. I attempted to use 200,000+ twitter followers but data cleaning was not finished after 6 hours so I had to use a smaller subsample to complete the assignment."
   ]
  },
  {
   "cell_type": "markdown",
   "id": "9b921b25",
   "metadata": {},
   "source": [
    "## Import Packages and Find File Path"
   ]
  },
  {
   "cell_type": "code",
   "execution_count": 1,
   "id": "e2d096b7",
   "metadata": {
    "scrolled": true
   },
   "outputs": [],
   "source": [
    "import os\n",
    "import re\n",
    "import emoji\n",
    "import pandas as pd\n",
    "import numpy as np\n",
    "\n",
    "from collections import Counter, defaultdict\n",
    "from nltk.corpus import stopwords\n",
    "from string import punctuation\n",
    "\n",
    "sw = stopwords.words(\"english\")"
   ]
  },
  {
   "cell_type": "code",
   "execution_count": 2,
   "id": "6b555ab2",
   "metadata": {},
   "outputs": [],
   "source": [
    "# Add any additional import statements you need here\n",
    "import string"
   ]
  },
  {
   "cell_type": "code",
   "execution_count": 3,
   "id": "923b5a86",
   "metadata": {},
   "outputs": [],
   "source": [
    "# change `data_location` to the location of the folder on your machine.\n",
    "data_location = \"/Users/sanjayregiphilip/OneDrive/DS/ADS 509/Module2/SRegiPhilip-ADS509-Module2/M1 Results\"\n",
    "\n",
    "# These subfolders should still work if you correctly stored the \n",
    "# data from the Module 1 assignment\n",
    "twitter_folder = \"twitter/\"\n",
    "lyrics_folder = \"lyrics/\""
   ]
  },
  {
   "cell_type": "markdown",
   "id": "b7563c23",
   "metadata": {},
   "source": [
    "### Define Descriptive Stats Function"
   ]
  },
  {
   "cell_type": "code",
   "execution_count": 4,
   "id": "0018b363",
   "metadata": {},
   "outputs": [],
   "source": [
    "def descriptive_stats(tokens, num_tokens = 5, verbose=True) :\n",
    "    \"\"\"\n",
    "        Given a list of tokens, print number of tokens, number of unique tokens, \n",
    "        number of characters, lexical diversity (https://en.wikipedia.org/wiki/Lexical_diversity), \n",
    "        and num_tokens most common tokens. Return a list with the number of tokens, number\n",
    "        of unique tokens, lexical diversity, and number of characters. \n",
    "    \n",
    "    \"\"\"\n",
    "    \n",
    "    counter = Counter(tokens)\n",
    "    characters = ''.join(tokens)\n",
    "    \n",
    "    # Fill in the correct values here. \n",
    "    num_tokens = sum(counter.values())\n",
    "    num_unique_tokens = len(counter.keys())\n",
    "    lexical_diversity = num_unique_tokens/num_tokens\n",
    "    num_characters = len(characters)\n",
    "    \n",
    "    if verbose :        \n",
    "        print(f\"There are {num_tokens} tokens in the data.\")\n",
    "        print(f\"There are {num_unique_tokens} unique tokens in the data.\")\n",
    "        print(f\"There are {num_characters} characters in the data.\")\n",
    "        print(f\"The lexical diversity is {lexical_diversity:.3f} in the data.\")\n",
    "    \n",
    "        # print the five most common tokens\n",
    "        print(counter.most_common(5))\n",
    "        \n",
    "    return([num_tokens, num_unique_tokens,\n",
    "            lexical_diversity,\n",
    "            num_characters])\n",
    "    "
   ]
  },
  {
   "cell_type": "code",
   "execution_count": 5,
   "id": "59dcf058",
   "metadata": {
    "scrolled": true
   },
   "outputs": [
    {
     "name": "stdout",
     "output_type": "stream",
     "text": [
      "There are 13 tokens in the data.\n",
      "There are 9 unique tokens in the data.\n",
      "There are 55 characters in the data.\n",
      "The lexical diversity is 0.692 in the data.\n",
      "[('text', 3), ('here', 2), ('example', 2), ('is', 1), ('some', 1)]\n"
     ]
    }
   ],
   "source": [
    "text = \"\"\"here is some example text with other example text here in this text\"\"\".split()\n",
    "assert(descriptive_stats(text, verbose=True)[0] == 13)\n",
    "assert(descriptive_stats(text, verbose=False)[1] == 9)\n",
    "assert(abs(descriptive_stats(text, verbose=False)[2] - 0.69) < 0.02)\n",
    "assert(descriptive_stats(text, verbose=False)[3] == 55)"
   ]
  },
  {
   "cell_type": "markdown",
   "id": "d2e7e1a2",
   "metadata": {},
   "source": [
    "Q: Why is it beneficial to use assertion statements in your code? \n",
    "\n",
    "A: Assertion code is useful for debugging and allow to ensure that the values being used are indeed what is expected and suitable for the code that it is being executed on."
   ]
  },
  {
   "cell_type": "markdown",
   "id": "9d3bf93e",
   "metadata": {},
   "source": [
    "## Data Input\n",
    "\n",
    "Now read in each of the corpora. For the lyrics data, it may be convenient to store the entire contents of the file to make it easier to inspect the titles individually, as you'll do in the last part of the assignment. In the solution, I stored the lyrics data in a dictionary with two dimensions of keys: artist and song. The value was the file contents. A data frame would work equally well. \n",
    "\n",
    "For the Twitter data, we only need the description field for this assignment. Feel free all the descriptions read it into a data structure. In the solution, I stored the descriptions as a dictionary of lists, with the key being the artist. \n",
    "\n",
    "\n"
   ]
  },
  {
   "cell_type": "markdown",
   "id": "def4359f",
   "metadata": {},
   "source": [
    "### Read Lyrics Data"
   ]
  },
  {
   "cell_type": "code",
   "execution_count": 6,
   "id": "37d70801",
   "metadata": {
    "scrolled": true
   },
   "outputs": [],
   "source": [
    "# Read in the lyrics data\n",
    "import os\n",
    "\n",
    "## Function to remove artist leading name prefix for song file names\n",
    "def remove_filename_prefix(text, prefix):\n",
    "    if text.startswith(prefix):\n",
    "        return text[len(prefix):]\n",
    "    return text\n",
    "\n",
    "## Function to read in lyrics from artist directory\n",
    "def read_lyrics(path, prefix, artist_name):\n",
    "    lyrics_dict = defaultdict(dict)\n",
    "    \n",
    "    for filename in os.listdir(path):\n",
    "        name, file_extension = os.path.splitext(filename)\n",
    "        song_name = remove_filename_prefix(name, prefix)\n",
    "        \n",
    "        file = open(path+filename,\"r\", encoding='unicode_escape')\n",
    "        content = file.read()\n",
    "        file.close()\n",
    "        \n",
    "        ## save results to dictionary\n",
    "        lyrics_dict[artist_name][song_name] = content\n",
    "        \n",
    "        \n",
    "    return lyrics_dict\n",
    "\n",
    "\n",
    "# Read in lyrics for Cher\n",
    "path_cher = \"/Users/sanjayregiphilip/OneDrive/DS/ADS 509/Module2/SRegiPhilip-ADS509-Module2/M1 Results/lyrics/cher/\"\n",
    "prefix_cher = \"cher_\"\n",
    "artist_name_cher = \"Cher\"\n",
    "\n",
    "cher_lyrics = read_lyrics(path_cher, prefix_cher, artist_name_cher)\n",
    "cher_songs_complete = cher_lyrics\n",
    "\n",
    "\n",
    "\n",
    "# Read in lyrics for Robyn\n",
    "path_robyn = \"/Users/sanjayregiphilip/OneDrive/DS/ADS 509/Module2/SRegiPhilip-ADS509-Module2/M1 Results/lyrics/robyn/\"\n",
    "prefix_robyn = \"robyn_\"\n",
    "artist_name_robyn = \"Robyn\"\n",
    "\n",
    "robyn_lyrics = read_lyrics(path_robyn, prefix_robyn, artist_name_robyn)\n",
    "robyn_songs_complete = robyn_lyrics\n",
    "\n",
    "\n",
    "# Combine Dictionary for both artists' lyrics\n",
    "lyrics_dict = {\"Cher\": cher_lyrics,\n",
    "               \"Robyn\": robyn_lyrics}"
   ]
  },
  {
   "cell_type": "markdown",
   "id": "41d860af",
   "metadata": {},
   "source": [
    "### Read Twitter Data"
   ]
  },
  {
   "cell_type": "code",
   "execution_count": 7,
   "id": "3a490001",
   "metadata": {
    "scrolled": false
   },
   "outputs": [
    {
     "name": "stderr",
     "output_type": "stream",
     "text": [
      "b'Skipping line 624: expected 7 fields, saw 12\\nSkipping line 17506: expected 7 fields, saw 12\\nSkipping line 104621: expected 7 fields, saw 12\\n'\n",
      "b'Skipping line 188924: expected 7 fields, saw 12\\n'\n",
      "b'Skipping line 301600: expected 7 fields, saw 12\\n'\n",
      "b'Skipping line 429936: expected 7 fields, saw 12\\nSkipping line 444405: expected 7 fields, saw 12\\n'\n",
      "b'Skipping line 677792: expected 7 fields, saw 12\\nSkipping line 773482: expected 7 fields, saw 12\\n'\n",
      "b'Skipping line 818258: expected 7 fields, saw 12\\nSkipping line 895225: expected 7 fields, saw 12\\n'\n",
      "b'Skipping line 955213: expected 7 fields, saw 10\\nSkipping line 994827: expected 7 fields, saw 12\\n'\n",
      "b'Skipping line 1246039: expected 7 fields, saw 12\\n'\n",
      "b'Skipping line 1569117: expected 7 fields, saw 12\\n'\n",
      "b'Skipping line 2127250: expected 7 fields, saw 12\\n'\n",
      "b'Skipping line 2335031: expected 7 fields, saw 12\\n'\n",
      "b'Skipping line 2681065: expected 7 fields, saw 10\\n'\n",
      "b'Skipping line 3147696: expected 7 fields, saw 12\\n'\n"
     ]
    }
   ],
   "source": [
    "# Read in the twitter data\n",
    "\n",
    "## Function to read in all twitter follower data in directory\n",
    "def read_twitter(path, artist_name):\n",
    "    twitter_df = pd.read_csv(path, sep=\"\\t\", error_bad_lines=False)\n",
    "    return twitter_df\n",
    "\n",
    "# Read in Cher Follower Data\n",
    "path_cher = \"/Users/sanjayregiphilip/OneDrive/DS/ADS 509/Module2/SRegiPhilip-ADS509-Module2/M1 Results/twitter/cher_followers_data.txt\"\n",
    "\n",
    "cher_twitter_df = read_twitter(path_cher, artist_name_cher)\n",
    "cher_twitter_df = cher_twitter_df.sample(frac=0.05, random_state=1) ## added because of performance issues\n",
    "\n",
    "# Read in Robyn Follower Data\n",
    "path_robyn = \"/Users/sanjayregiphilip/OneDrive/DS/ADS 509/Module2/SRegiPhilip-ADS509-Module2/M1 Results/twitter/robynkonichiwa_followers_data.txt\"\n",
    "\n",
    "robyn_twitter_df = read_twitter(path_robyn, artist_name_robyn)\n",
    "robyn_twitter_df = robyn_twitter_df.sample(frac=0.05, random_state=1) ## added because of performance issues\n",
    "\n",
    "# Create Dictionary for Artist follower description as string in list\n",
    "twitter_dict = {\"Cher\": (cher_twitter_df.description.astype(str).values.tolist()),\n",
    "               \"Robyn\": (robyn_twitter_df.description.astype(str).values.tolist())}"
   ]
  },
  {
   "cell_type": "code",
   "execution_count": 8,
   "id": "fb2214c2",
   "metadata": {
    "scrolled": false
   },
   "outputs": [
    {
     "data": {
      "text/plain": [
       "(19582, 7)"
      ]
     },
     "execution_count": 8,
     "metadata": {},
     "output_type": "execute_result"
    }
   ],
   "source": [
    "cher_twitter_df.shape ## confirm how many followers descriptions are being used due to sampling for performance"
   ]
  },
  {
   "cell_type": "markdown",
   "id": "6a5f3b12",
   "metadata": {},
   "source": [
    "## Data Cleaning\n",
    "\n",
    "Now clean and tokenize your data. Remove punctuation chacters (available in the `punctuation` object in the `string` library), split on whitespace, fold to lowercase, and remove stopwords. Store your cleaned data, which must be accessible as an interable for `descriptive_stats`, in new objects or in new columns in your data frame. \n",
    "\n"
   ]
  },
  {
   "cell_type": "code",
   "execution_count": 9,
   "id": "71c73d86",
   "metadata": {},
   "outputs": [],
   "source": [
    "punctuation = set(punctuation) # speeds up comparison"
   ]
  },
  {
   "cell_type": "code",
   "execution_count": 10,
   "id": "662af63a",
   "metadata": {},
   "outputs": [],
   "source": [
    "# retrieve follower data for each artist\n",
    "twitter_cher = twitter_dict['Cher']\n",
    "twitter_robyn = twitter_dict['Robyn']"
   ]
  },
  {
   "cell_type": "code",
   "execution_count": 11,
   "id": "f0825239",
   "metadata": {},
   "outputs": [],
   "source": [
    "# fold to lowercase\n",
    "for index, item in enumerate(twitter_cher):\n",
    "    twitter_cher[index] = item.casefold()\n",
    "    \n",
    "for index, item in enumerate(twitter_robyn):\n",
    "    twitter_robyn[index] = item.casefold()"
   ]
  },
  {
   "cell_type": "code",
   "execution_count": 12,
   "id": "7ecf5e37",
   "metadata": {},
   "outputs": [],
   "source": [
    "# remove punctuation\n",
    "for index, item in enumerate(twitter_cher):\n",
    "    twitter_cher[index] = re.sub(r'[^\\w\\s]','',item)\n",
    "    \n",
    "for index, item in enumerate(twitter_robyn):\n",
    "    twitter_robyn[index] = re.sub(r'[^\\w\\s]','',item)"
   ]
  },
  {
   "cell_type": "code",
   "execution_count": 13,
   "id": "7e0bb26a",
   "metadata": {},
   "outputs": [],
   "source": [
    "# split on whitespace\n",
    "for index, item in enumerate(twitter_cher):\n",
    "    twitter_cher[index] = item.split()\n",
    "    \n",
    "for index, item in enumerate(twitter_robyn):\n",
    "    twitter_robyn[index] = item.split()"
   ]
  },
  {
   "cell_type": "code",
   "execution_count": 14,
   "id": "a260b98b",
   "metadata": {},
   "outputs": [],
   "source": [
    "# returns all words to single list\n",
    "def flatten(l):\n",
    "    return [item for sublist in l for item in sublist]\n",
    "\n",
    "twitter_cher = flatten(twitter_cher)\n",
    "twitter_robyn = flatten(twitter_robyn)"
   ]
  },
  {
   "cell_type": "code",
   "execution_count": 15,
   "id": "109822ad",
   "metadata": {},
   "outputs": [],
   "source": [
    "# remove stopwords\n",
    "twitter_cher = [word for word in twitter_cher if not word in stopwords.words()]\n",
    "twitter_robyn = [word for word in twitter_robyn if not word in stopwords.words()]"
   ]
  },
  {
   "cell_type": "markdown",
   "id": "6e97cabc",
   "metadata": {},
   "source": [
    "### Data Cleaning for Lyrics\n",
    "#### Folds to lowercase, removes punctuation, splits on whitespace, removes stopwords"
   ]
  },
  {
   "cell_type": "code",
   "execution_count": 16,
   "id": "4f031d35",
   "metadata": {},
   "outputs": [],
   "source": [
    "cher_lyrics = lyrics_dict['Cher']['Cher']\n",
    "robyn_lyrics = lyrics_dict['Robyn']['Robyn']"
   ]
  },
  {
   "cell_type": "code",
   "execution_count": 17,
   "id": "6edd305b",
   "metadata": {},
   "outputs": [],
   "source": [
    "cher_lyrics=list(cher_lyrics.values())\n",
    "robyn_lyrics=list(robyn_lyrics.values())"
   ]
  },
  {
   "cell_type": "code",
   "execution_count": 18,
   "id": "1c3e7edd",
   "metadata": {},
   "outputs": [],
   "source": [
    "# fold to lowercase\n",
    "for index, item in enumerate(cher_lyrics):\n",
    "    cher_lyrics[index] = item.casefold()\n",
    "\n",
    "for index, item in enumerate(robyn_lyrics):\n",
    "    robyn_lyrics[index] = item.casefold()"
   ]
  },
  {
   "cell_type": "code",
   "execution_count": 19,
   "id": "b57d556e",
   "metadata": {},
   "outputs": [],
   "source": [
    "# remove punctuation\n",
    "for index, item in enumerate(cher_lyrics):\n",
    "    cher_lyrics[index] = re.sub(r'[^\\w\\s]','',item)\n",
    "    \n",
    "for index, item in enumerate(robyn_lyrics):\n",
    "    robyn_lyrics[index] = re.sub(r'[^\\w\\s]','',item)"
   ]
  },
  {
   "cell_type": "code",
   "execution_count": 20,
   "id": "392d86a8",
   "metadata": {},
   "outputs": [],
   "source": [
    "# split on whitespace\n",
    "for index, item in enumerate(cher_lyrics):\n",
    "    cher_lyrics[index] = item.split()\n",
    "    \n",
    "for index, item in enumerate(robyn_lyrics):\n",
    "    robyn_lyrics[index] = item.split()"
   ]
  },
  {
   "cell_type": "code",
   "execution_count": 21,
   "id": "14cb7a78",
   "metadata": {},
   "outputs": [],
   "source": [
    "# returns all words to single list\n",
    "def flatten(l):\n",
    "    return [item for sublist in l for item in sublist]\n",
    "\n",
    "lyrics_cher = flatten(cher_lyrics)\n",
    "lyrics_robyn = flatten(robyn_lyrics)"
   ]
  },
  {
   "cell_type": "code",
   "execution_count": 22,
   "id": "84f761da",
   "metadata": {},
   "outputs": [],
   "source": [
    "# remove stopwords\n",
    "lyrics_cher = [word for word in lyrics_cher if not word in stopwords.words()]\n",
    "lyrics_robyn = [word for word in lyrics_robyn if not word in stopwords.words()]"
   ]
  },
  {
   "cell_type": "markdown",
   "id": "f2dd0179",
   "metadata": {},
   "source": [
    "## Basic Descriptive Statistics\n",
    "\n",
    "Call your `descriptive_stats` function on both your lyrics data and your twitter data and for both artists (four total calls). "
   ]
  },
  {
   "cell_type": "code",
   "execution_count": 23,
   "id": "60b97002",
   "metadata": {},
   "outputs": [
    {
     "name": "stdout",
     "output_type": "stream",
     "text": [
      "Descriptive Stats for Cher's Followers\n",
      "There are 79153 tokens in the data.\n",
      "There are 25437 unique tokens in the data.\n",
      "There are 478071 characters in the data.\n",
      "The lexical diversity is 0.321 in the data.\n",
      "[('nan', 9810), ('love', 1191), ('life', 703), ('music', 487), ('follow', 328)]\n"
     ]
    },
    {
     "data": {
      "text/plain": [
       "[79153, 25437, 0.32136495142319305, 478071]"
      ]
     },
     "execution_count": 23,
     "metadata": {},
     "output_type": "execute_result"
    }
   ],
   "source": [
    "print(\"Descriptive Stats for Cher's Followers\")\n",
    "descriptive_stats(twitter_cher)"
   ]
  },
  {
   "cell_type": "code",
   "execution_count": 24,
   "id": "d53ce073",
   "metadata": {},
   "outputs": [
    {
     "name": "stdout",
     "output_type": "stream",
     "text": [
      "Descriptive Stats for Cher's Lyrics\n",
      "There are 6608 tokens in the data.\n",
      "There are 3924 unique tokens in the data.\n",
      "There are 41707 characters in the data.\n",
      "The lexical diversity is 0.594 in the data.\n",
      "[('nan', 823), ('music', 83), ('love', 47), ('lover', 32), ('life', 29)]\n"
     ]
    },
    {
     "data": {
      "text/plain": [
       "[6608, 3924, 0.5938256658595642, 41707]"
      ]
     },
     "execution_count": 24,
     "metadata": {},
     "output_type": "execute_result"
    }
   ],
   "source": [
    "print(\"Descriptive Stats for Cher's Lyrics\")\n",
    "descriptive_stats(twitter_robyn)"
   ]
  },
  {
   "cell_type": "code",
   "execution_count": 25,
   "id": "4a514873",
   "metadata": {},
   "outputs": [
    {
     "name": "stdout",
     "output_type": "stream",
     "text": [
      "Descriptive Stats for Cher's Lyrics\n",
      "There are 1768 tokens in the data.\n",
      "There are 602 unique tokens in the data.\n",
      "There are 10001 characters in the data.\n",
      "The lexical diversity is 0.340 in the data.\n",
      "[('bang', 88), ('love', 60), ('baby', 37), ('heart', 33), ('youre', 32)]\n"
     ]
    },
    {
     "data": {
      "text/plain": [
       "[1768, 602, 0.3404977375565611, 10001]"
      ]
     },
     "execution_count": 25,
     "metadata": {},
     "output_type": "execute_result"
    }
   ],
   "source": [
    "print(\"Descriptive Stats for Cher's Lyrics\")\n",
    "descriptive_stats(lyrics_cher)"
   ]
  },
  {
   "cell_type": "code",
   "execution_count": 26,
   "id": "d36caea3",
   "metadata": {},
   "outputs": [
    {
     "name": "stdout",
     "output_type": "stream",
     "text": [
      "Descriptive Stats for Robyn's Lyrics\n",
      "There are 2440 tokens in the data.\n",
      "There are 794 unique tokens in the data.\n",
      "There are 13736 characters in the data.\n",
      "The lexical diversity is 0.325 in the data.\n",
      "[('baby', 50), ('time', 36), ('youre', 35), ('love', 35), ('wow', 32)]\n"
     ]
    },
    {
     "data": {
      "text/plain": [
       "[2440, 794, 0.3254098360655738, 13736]"
      ]
     },
     "execution_count": 26,
     "metadata": {},
     "output_type": "execute_result"
    }
   ],
   "source": [
    "print(\"Descriptive Stats for Robyn's Lyrics\")\n",
    "descriptive_stats(lyrics_robyn)"
   ]
  },
  {
   "cell_type": "markdown",
   "id": "46294409",
   "metadata": {},
   "source": [
    "Q: How do you think the \"top 5 words\" would be different if we left stopwords in the data? \n",
    "\n",
    "A: Stopwords are likely to be the most common of words and would likely show in any top 5 words lists unless filtered out explicitly.\n",
    "\n",
    "---\n",
    "\n",
    "Q: What were your prior beliefs about the lexical diversity between the artists? Does the difference (or lack thereof) in lexical diversity between the artists conform to your prior beliefs? \n",
    "\n",
    "A: As both of these artists are known as \"pop artists\", I am not surprised by what seems to be a relatively low lexical diversity. Pop music in general is known to be repetitive.\n"
   ]
  },
  {
   "cell_type": "markdown",
   "id": "4d4e1ac1",
   "metadata": {},
   "source": [
    "\n",
    "## Specialty Statistics\n",
    "\n",
    "The descriptive statistics we have calculated are quite generic. You will now calculate a handful of statistics tailored to these data.\n",
    "\n",
    "1. Ten most common emojis by artist in the twitter descriptions.\n",
    "1. Ten most common hashtags by artist in the twitter descriptions.\n",
    "1. Five most common words in song titles by artist. \n",
    "1. For each artist, a histogram of song lengths (in terms of number of tokens) \n",
    "\n",
    "We can use the `emoji` library to help us identify emojis and you have been given a function to help you.\n"
   ]
  },
  {
   "cell_type": "code",
   "execution_count": 27,
   "id": "753a5a3e",
   "metadata": {},
   "outputs": [],
   "source": [
    "assert(emoji.is_emoji(\"❤️\"))\n",
    "assert(not emoji.is_emoji(\":-)\"))"
   ]
  },
  {
   "cell_type": "markdown",
   "id": "986fc4c0",
   "metadata": {},
   "source": [
    "### Emojis 😁\n",
    "\n",
    "What are the ten most common emojis by artist in the twitter descriptions? \n"
   ]
  },
  {
   "cell_type": "code",
   "execution_count": 28,
   "id": "01ce1549",
   "metadata": {},
   "outputs": [
    {
     "data": {
      "text/plain": [
       "0"
      ]
     },
     "execution_count": 28,
     "metadata": {},
     "output_type": "execute_result"
    }
   ],
   "source": [
    "sum(1 for token in twitter_cher if (emoji.is_emoji(token)))"
   ]
  },
  {
   "cell_type": "markdown",
   "id": "bab9b770",
   "metadata": {},
   "source": [
    "### Hashtags\n",
    "\n",
    "What are the ten most common hashtags by artist in the twitter descriptions? \n"
   ]
  },
  {
   "cell_type": "markdown",
   "id": "d10f21d5",
   "metadata": {},
   "source": [
    "### Song Titles\n",
    "\n",
    "What are the five most common words in song titles by artist? The song titles should be on the first line of the lyrics pages, so if you have kept the raw file contents around, you will not need to re-read the data.\n"
   ]
  },
  {
   "cell_type": "code",
   "execution_count": null,
   "id": "46c6f7a7",
   "metadata": {},
   "outputs": [],
   "source": [
    "### I re-read the data to ensure no important information was lost earlier."
   ]
  },
  {
   "cell_type": "code",
   "execution_count": 29,
   "id": "e4c80d48",
   "metadata": {},
   "outputs": [],
   "source": [
    "path_cher = \"/Users/sanjayregiphilip/OneDrive/DS/ADS 509/Module2/SRegiPhilip-ADS509-Module2/M1 Results/lyrics/cher/\"\n",
    "\n",
    "path_robyn = \"/Users/sanjayregiphilip/OneDrive/DS/ADS 509/Module2/SRegiPhilip-ADS509-Module2/M1 Results/lyrics/robyn/\""
   ]
  },
  {
   "cell_type": "code",
   "execution_count": 30,
   "id": "bb69b36b",
   "metadata": {},
   "outputs": [],
   "source": [
    "# Function to read first line of each song .txt file to gather name\n",
    "# This was needed because we originally extracted song name from the filename rather than the first line\n",
    "\n",
    "def read_song_names(path, artist_name):\n",
    "    \n",
    "    song_name = list()\n",
    "    type(song_name)\n",
    "    for filename in os.listdir(path):\n",
    "        file = open(path+filename,\"r\", encoding='unicode_escape')\n",
    "        song_name.append(str(file.readline()))\n",
    "        file.close()\n",
    "        \n",
    "    return song_name\n",
    "\n",
    "cher_song_names = read_song_names(path_cher, artist_name_cher)\n",
    "robyn_song_names = read_song_names(path_robyn, artist_name_robyn)"
   ]
  },
  {
   "cell_type": "code",
   "execution_count": 31,
   "id": "1d1cb055",
   "metadata": {},
   "outputs": [],
   "source": [
    "# fold to lowercase\n",
    "for index, item in enumerate(cher_song_names):\n",
    "    cher_song_names[index] = item.casefold()\n",
    "\n",
    "for index, item in enumerate(robyn_song_names):\n",
    "    robyn_song_names[index] = item.casefold()"
   ]
  },
  {
   "cell_type": "code",
   "execution_count": 32,
   "id": "cfa3e5ce",
   "metadata": {},
   "outputs": [],
   "source": [
    "# remove punctuation\n",
    "for index, item in enumerate(cher_song_names):\n",
    "    cher_song_names[index] = re.sub(r'[^\\w\\s]','',item)\n",
    "    \n",
    "for index, item in enumerate(cher_song_names):\n",
    "    robyn_song_names[index] = re.sub(r'[^\\w\\s]','',item)"
   ]
  },
  {
   "cell_type": "code",
   "execution_count": 33,
   "id": "038ddb78",
   "metadata": {},
   "outputs": [],
   "source": [
    "# split on whitespace\n",
    "for index, item in enumerate(cher_song_names):\n",
    "    cher_song_names[index] = str(item).split()\n",
    "    \n",
    "for index, item in enumerate(robyn_lyrics):\n",
    "    robyn_song_names[index] = str(item).split()"
   ]
  },
  {
   "cell_type": "code",
   "execution_count": 34,
   "id": "1c31d9f3",
   "metadata": {},
   "outputs": [],
   "source": [
    "# returns all words to single list\n",
    "def flatten(l):\n",
    "    return [item for sublist in l for item in sublist]\n",
    "\n",
    "cher_song_names = flatten(cher_song_names)\n",
    "robyn_song_names = flatten(robyn_song_names)"
   ]
  },
  {
   "cell_type": "code",
   "execution_count": 35,
   "id": "9e7e64e5",
   "metadata": {},
   "outputs": [],
   "source": [
    "# remove stopwords\n",
    "cher_song_names = [word for word in cher_song_names if not word in stopwords.words()]\n",
    "robyn_song_names = [word for word in robyn_song_names if not word in stopwords.words()]"
   ]
  },
  {
   "cell_type": "code",
   "execution_count": 36,
   "id": "4b110fbf",
   "metadata": {
    "scrolled": false
   },
   "outputs": [
    {
     "name": "stdout",
     "output_type": "stream",
     "text": [
      "Descriptive Stats for Cher's Song Names Words\n",
      "There are 55 tokens in the data.\n",
      "There are 50 unique tokens in the data.\n",
      "There are 1398 characters in the data.\n",
      "The lexical diversity is 0.909 in the data.\n",
      "[('body', 2), ('heart', 2), ('ÿÿÿÿÿÿ', 2), ('cher_bodytobodyhearttohearttxtilocblobÿÿÿÿÿÿcher_bornwiththehungertxtilocblobÿÿÿÿÿÿ', 2), ('bang', 2)]\n"
     ]
    },
    {
     "data": {
      "text/plain": [
       "[55, 50, 0.9090909090909091, 1398]"
      ]
     },
     "execution_count": 36,
     "metadata": {},
     "output_type": "execute_result"
    }
   ],
   "source": [
    "print(\"Descriptive Stats for Cher's Song Names Words\")\n",
    "descriptive_stats(cher_song_names)"
   ]
  },
  {
   "cell_type": "code",
   "execution_count": 37,
   "id": "d07ea02c",
   "metadata": {
    "scrolled": true
   },
   "outputs": [
    {
     "name": "stdout",
     "output_type": "stream",
     "text": [
      "Descriptive Stats for Robyn's Song Names Words\n",
      "There are 7062 tokens in the data.\n",
      "There are 1085 unique tokens in the data.\n",
      "There are 49747 characters in the data.\n",
      "The lexical diversity is 0.154 in the data.\n",
      "[(\"'you',\", 355), (\"'the',\", 264), (\"'i',\", 204), (\"'and',\", 166), (\"'to',\", 128)]\n"
     ]
    },
    {
     "data": {
      "text/plain": [
       "[7062, 1085, 0.15363919569527046, 49747]"
      ]
     },
     "execution_count": 37,
     "metadata": {},
     "output_type": "execute_result"
    }
   ],
   "source": [
    "print(\"Descriptive Stats for Robyn's Song Names Words\")\n",
    "descriptive_stats(robyn_song_names)"
   ]
  },
  {
   "cell_type": "markdown",
   "id": "5dd4fd71",
   "metadata": {},
   "source": [
    "### Song Lengths\n",
    "\n",
    "For each artist, a histogram of song lengths (in terms of number of tokens). If you put the song lengths in a data frame with an artist column, matplotlib will make the plotting quite easy. An example is given to help you out. \n"
   ]
  },
  {
   "cell_type": "markdown",
   "id": "8fde9ebb",
   "metadata": {},
   "source": [
    "Since the lyrics may be stored with carriage returns or tabs, it may be useful to have a function that can collapse whitespace, using regular expressions, and be used for splitting. \n",
    "\n",
    "Q: What does the regular expression `'\\s+'` match on? \n",
    "\n",
    "A: It will help find any examples where there is more than 1 whitespace character.\n"
   ]
  },
  {
   "cell_type": "code",
   "execution_count": 38,
   "id": "712d603a",
   "metadata": {},
   "outputs": [],
   "source": [
    "## Method not used - was originally intended to count lyric length\n",
    "def count_tokens(tokens, num_tokens = 5, verbose=True) :\n",
    "\n",
    "    counter = Counter(tokens)\n",
    "    characters = ''.join(tokens)\n",
    "    \n",
    "    # Fill in the correct values here. \n",
    "    num_tokens = sum(counter.values())\n",
    "    num_unique_tokens = len(counter.keys())\n",
    "    lexical_diversity = num_unique_tokens/num_tokens\n",
    "    num_characters = len(characters)\n",
    "    \n",
    "    return([num_tokens, num_unique_tokens,\n",
    "            lexical_diversity,\n",
    "            num_characters])"
   ]
  },
  {
   "cell_type": "code",
   "execution_count": 39,
   "id": "fea73b63",
   "metadata": {
    "scrolled": false
   },
   "outputs": [],
   "source": [
    "cher_songs_complete = cher_songs_complete['Cher']\n",
    "robyn_songs_complete = robyn_songs_complete['Robyn']"
   ]
  },
  {
   "cell_type": "code",
   "execution_count": 40,
   "id": "dacdc025",
   "metadata": {
    "scrolled": true
   },
   "outputs": [
    {
     "data": {
      "text/plain": [
       "Artist\n",
       "Cher     AxesSubplot(0.125,0.125;0.775x0.755)\n",
       "Robyn    AxesSubplot(0.125,0.125;0.775x0.755)\n",
       "Name: Count, dtype: object"
      ]
     },
     "execution_count": 40,
     "metadata": {},
     "output_type": "execute_result"
    },
    {
     "data": {
      "image/png": "[encoded data removed]",
      "text/plain": [
       "<Figure size 432x288 with 1 Axes>"
      ]
     },
     "metadata": {
      "needs_background": "light"
     },
     "output_type": "display_data"
    }
   ],
   "source": [
    "cher_lyrics_count = pd.DataFrame(columns=['Song Name', 'Count'])\n",
    "\n",
    "for k,v in cher_songs_complete.items():\n",
    "    cher_lyrics_count = cher_lyrics_count.append({'Song Name': k, 'Count': len(v)}, ignore_index = True)\n",
    "    \n",
    "    \n",
    "robyn_lyrics_count = pd.DataFrame(columns=['Song Name', 'Count'])\n",
    "\n",
    "for k,v in robyn_songs_complete.items():\n",
    "    robyn_lyrics_count = robyn_lyrics_count.append({'Song Name': k, 'Count': len(v)}, ignore_index = True)\n",
    "\n",
    "    \n",
    "cher_lyrics_count['Artist'] = \"Cher\"\n",
    "robyn_lyrics_count['Artist'] = 'Robyn'\n",
    "\n",
    "lyrics_count = pd.concat([cher_lyrics_count, robyn_lyrics_count], axis=0)\n",
    "\n",
    "lyrics_count.groupby('Artist')['Count'].plot(kind=\"hist\",density=True,alpha=0.5,legend=True)"
   ]
  }
 ],
 "metadata": {
  "kernelspec": {
   "display_name": "Python 3",
   "language": "python",
   "name": "python3"
  },
  "language_info": {
   "codemirror_mode": {
    "name": "ipython",
    "version": 3
   },
   "file_extension": ".py",
   "mimetype": "text/x-python",
   "name": "python",
   "nbconvert_exporter": "python",
   "pygments_lexer": "ipython3",
   "version": "3.6.13"
  }
 },
 "nbformat": 4,
 "nbformat_minor": 5
}
